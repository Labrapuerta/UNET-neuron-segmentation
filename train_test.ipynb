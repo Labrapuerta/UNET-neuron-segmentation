{
 "cells": [
  {
   "cell_type": "code",
   "execution_count": 1,
   "metadata": {},
   "outputs": [],
   "source": [
    "from scripts.data import *"
   ]
  },
  {
   "cell_type": "code",
   "execution_count": 2,
   "metadata": {},
   "outputs": [
    {
     "name": "stdout",
     "output_type": "stream",
     "text": [
      "Dataset URL: https://www.kaggle.com/datasets/nbroad/fluorescent-neuronal-cells\n"
     ]
    }
   ],
   "source": [
    "download_dataset()"
   ]
  },
  {
   "cell_type": "code",
   "execution_count": 3,
   "metadata": {},
   "outputs": [
    {
     "name": "stdout",
     "output_type": "stream",
     "text": [
      "ref                                                                 title                                                size  lastUpdated          downloadCount  voteCount  usabilityRating  \n",
      "------------------------------------------------------------------  --------------------------------------------------  -----  -------------------  -------------  ---------  ---------------  \n",
      "nbroad/fluorescent-neuronal-cells                                   Fluorescent Neuronal Cells                          395MB  2023-03-24 13:56:37            700         38  1.0              \n",
      "usharengaraju/crimeagainstwomen                                     sRNA sequencing - Brain (GSE75140)                   25MB  2020-04-05 16:03:10            631        199  0.875            \n",
      "jannesklaas/frenchenglish-bilingual-pairs                           French-English Bilingual Pairs                        6MB  2018-04-23 21:10:55           1135          7  0.75             \n",
      "thedevastator/hemibrain-neuronal-connectome                         Hemibrain Neuronal Connectome                       948KB  2023-01-24 18:20:32             56          3  0.9411765        \n",
      "nilsnoreyson/touch-sensor-events                                    Touch Sensor Events                                   1MB  2018-05-25 11:24:16            526         11  0.7058824        \n",
      "sennierer/neuronalnetwork                                           Neuronal-network                                    656KB  2019-11-25 07:56:08             42          1  0.5              \n",
      "adrian1acoran/pi-31415                                              Pi 3,1415...                                         72MB  2018-10-25 08:37:15             41          3  0.4375           \n",
      "emirhanai/emotion-prediction-with-semi-supervised-learning          Emotion Prediction with Quantum5 Neural Network AI    2MB  2024-06-10 21:41:41            842         41  1.0              \n",
      "fabinbaron/modelo-de-red-neuronal                                   Modelo de Red Neuronal                                 0B  2024-04-11 22:16:02              0          2  0.3125           \n",
      "sebastianriquelme/rrnn20                                            rrnn2.0                                               2MB  2020-12-16 15:32:30             13          1  0.375            \n",
      "rameshjagadheesan/ar-based-assistance-for-visually-impaired-people  AR-based assistance for visually impaired people     75MB  2024-01-23 13:46:27              8          3  0.75             \n",
      "sebastianriquelme/imagenesdefinitivas                               ImagenesDefinitivas                                   2GB  2020-12-15 19:45:56             12          1  0.25             \n",
      "udristemihaiviorel/neuronalnetwork                                  neuronalnetwork                                     435MB  2023-04-04 21:27:49              3          1  0.125            \n",
      "sebastianriquelme/pruebass                                          pruebass                                              2MB  2020-12-16 15:36:00              7          1  0.25             \n",
      "abhishekinnvonix/epilepsy-seizure-dataset-seina-scalp-complete      Epilepsy Seizure dataset Seina scalp complete        13GB  2023-07-01 10:19:54            303          7  0.88235295       \n",
      "razvanispas/anime-sepia-filter-data                                 anime_sepia_filter_data                              25MB  2021-05-14 11:57:18             82          4  0.6875           \n",
      "surbhi1425/multiple-sclerosis-sample-data                           Multiple_sclerosis_sample_data                        3KB  2023-06-01 22:55:05             94          2  0.47058824       \n",
      "pabloseguralpez/card-dataset-for-pattern-recognition                Card Dataset for Pattern Recognition                 39MB  2024-01-04 11:41:30              3          0  0.375            \n",
      "fabinbaron/dsmte-banco-de-imgenes                                   DSMTE-Banco de Imágenes                               1GB  2024-02-12 21:06:51              1          0  0.4375           \n",
      "fedeschmidt/music-genre-classification-ia                           Music Genre Classification (IA)                       3MB  2022-10-09 23:43:24            110          1  0.5294118        \n"
     ]
    }
   ],
   "source": [
    "!kaggle datasets list -s 'neuronal'"
   ]
  },
  {
   "cell_type": "code",
   "execution_count": null,
   "metadata": {},
   "outputs": [],
   "source": []
  }
 ],
 "metadata": {
  "kernelspec": {
   "display_name": "Tensorflow",
   "language": "python",
   "name": "python3"
  },
  "language_info": {
   "codemirror_mode": {
    "name": "ipython",
    "version": 3
   },
   "file_extension": ".py",
   "mimetype": "text/x-python",
   "name": "python",
   "nbconvert_exporter": "python",
   "pygments_lexer": "ipython3",
   "version": "3.10.13"
  }
 },
 "nbformat": 4,
 "nbformat_minor": 2
}
